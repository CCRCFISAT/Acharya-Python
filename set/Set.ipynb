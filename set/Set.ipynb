{
  "nbformat": 4,
  "nbformat_minor": 0,
  "metadata": {
    "colab": {
      "name": "Set.ipynb",
      "provenance": []
    },
    "kernelspec": {
      "name": "python3",
      "display_name": "Python 3"
    }
  },
  "cells": [
    {
      "cell_type": "markdown",
      "metadata": {
        "id": "0HYOkiMLjZ8S"
      },
      "source": [
        "Set\n",
        "\n",
        "\n",
        "---\n",
        "Set is a collection which is unordered or unindexed. \n",
        "\n",
        "In python you can create a set using the following command\n",
        "\n"
      ]
    },
    {
      "cell_type": "code",
      "metadata": {
        "id": "JJ8hXRtejppO",
        "outputId": "3d4b7cfb-d40d-4649-b93e-ed064a38488a",
        "colab": {
          "base_uri": "https://localhost:8080/",
          "height": 35
        }
      },
      "source": [
        "data={\"apple\",\"orange\",\"pineapple\"}\n",
        "data"
      ],
      "execution_count": 1,
      "outputs": [
        {
          "output_type": "execute_result",
          "data": {
            "text/plain": [
              "{'apple', 'orange', 'pineapple'}"
            ]
          },
          "metadata": {
            "tags": []
          },
          "execution_count": 1
        }
      ]
    },
    {
      "cell_type": "markdown",
      "metadata": {
        "id": "gRrikiyKjw50"
      },
      "source": [
        "The items in the set can be accessed using for statement"
      ]
    },
    {
      "cell_type": "code",
      "metadata": {
        "id": "X2TtVOugjvsg",
        "outputId": "86715fe2-177d-4414-966f-84053af2a59c",
        "colab": {
          "base_uri": "https://localhost:8080/",
          "height": 72
        }
      },
      "source": [
        "for item in data:\n",
        "  print(item)"
      ],
      "execution_count": 2,
      "outputs": [
        {
          "output_type": "stream",
          "text": [
            "orange\n",
            "apple\n",
            "pineapple\n"
          ],
          "name": "stdout"
        }
      ]
    },
    {
      "cell_type": "markdown",
      "metadata": {
        "id": "TnOYRh_bkBGi"
      },
      "source": [
        "You can add items to set using the add method."
      ]
    },
    {
      "cell_type": "code",
      "metadata": {
        "id": "dd1ReXrYj7oh",
        "outputId": "19db2b8f-34fc-480d-ee60-ef307d75333c",
        "colab": {
          "base_uri": "https://localhost:8080/",
          "height": 35
        }
      },
      "source": [
        "data.add(\"apple\")\n",
        "data.add(\"bannana\")\n",
        "data"
      ],
      "execution_count": 3,
      "outputs": [
        {
          "output_type": "execute_result",
          "data": {
            "text/plain": [
              "{'apple', 'bannana', 'orange', 'pineapple'}"
            ]
          },
          "metadata": {
            "tags": []
          },
          "execution_count": 3
        }
      ]
    },
    {
      "cell_type": "markdown",
      "metadata": {
        "id": "PNZ6M3o0kLg1"
      },
      "source": [
        "Here, You can see that only bannana is added to the set. Set only contains unique items.\n",
        "\n",
        "\n",
        "Now lets see few set operations. For that we need to declare another varaiable"
      ]
    },
    {
      "cell_type": "code",
      "metadata": {
        "id": "ygRI6lmJkJdt"
      },
      "source": [
        "fruits={\"apple\",\"orange\",\"bannana\",\"watermelon\"}"
      ],
      "execution_count": 5,
      "outputs": []
    },
    {
      "cell_type": "markdown",
      "metadata": {
        "id": "TSlr7Af0kpv4"
      },
      "source": [
        "Union operation"
      ]
    },
    {
      "cell_type": "code",
      "metadata": {
        "id": "JpAgZ2y-ksHP",
        "outputId": "3536331e-632f-4aaf-d951-7a5bf6ce6066",
        "colab": {
          "base_uri": "https://localhost:8080/",
          "height": 35
        }
      },
      "source": [
        "result=fruits.union(data)\n",
        "result"
      ],
      "execution_count": 6,
      "outputs": [
        {
          "output_type": "execute_result",
          "data": {
            "text/plain": [
              "{'apple', 'bannana', 'orange', 'pineapple', 'watermelon'}"
            ]
          },
          "metadata": {
            "tags": []
          },
          "execution_count": 6
        }
      ]
    },
    {
      "cell_type": "markdown",
      "metadata": {
        "id": "PrsJo0K7k1r_"
      },
      "source": [
        "Intersection"
      ]
    },
    {
      "cell_type": "code",
      "metadata": {
        "id": "JxpwBYPnkvN1",
        "outputId": "6d85b87e-41e9-454f-b245-959704e2b2e9",
        "colab": {
          "base_uri": "https://localhost:8080/",
          "height": 35
        }
      },
      "source": [
        "result=fruits.intersection(data)\n",
        "result"
      ],
      "execution_count": 7,
      "outputs": [
        {
          "output_type": "execute_result",
          "data": {
            "text/plain": [
              "{'apple', 'bannana', 'orange'}"
            ]
          },
          "metadata": {
            "tags": []
          },
          "execution_count": 7
        }
      ]
    },
    {
      "cell_type": "markdown",
      "metadata": {
        "id": "4fNL6RL4k8ln"
      },
      "source": [
        "Difference"
      ]
    },
    {
      "cell_type": "code",
      "metadata": {
        "id": "jsTn9OZHk7xG",
        "outputId": "48d35621-5fe7-4ee3-94e5-d989b8500448",
        "colab": {
          "base_uri": "https://localhost:8080/",
          "height": 35
        }
      },
      "source": [
        "result=data-fruits\n",
        "result\n"
      ],
      "execution_count": 11,
      "outputs": [
        {
          "output_type": "execute_result",
          "data": {
            "text/plain": [
              "{'pineapple'}"
            ]
          },
          "metadata": {
            "tags": []
          },
          "execution_count": 11
        }
      ]
    },
    {
      "cell_type": "code",
      "metadata": {
        "id": "oGe5WTQdlDUs",
        "outputId": "46373aec-1e57-4107-dea2-e8cc8fed7308",
        "colab": {
          "base_uri": "https://localhost:8080/",
          "height": 35
        }
      },
      "source": [
        "result=fruits-data\n",
        "result\n"
      ],
      "execution_count": 12,
      "outputs": [
        {
          "output_type": "execute_result",
          "data": {
            "text/plain": [
              "{'watermelon'}"
            ]
          },
          "metadata": {
            "tags": []
          },
          "execution_count": 12
        }
      ]
    },
    {
      "cell_type": "code",
      "metadata": {
        "id": "5V620vpClN0U"
      },
      "source": [
        ""
      ],
      "execution_count": null,
      "outputs": []
    }
  ]
}