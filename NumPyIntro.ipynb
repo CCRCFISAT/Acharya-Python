{
 "cells": [
  {
   "cell_type": "markdown",
   "metadata": {},
   "source": [
    "NumPy Intro:"
   ]
  },
  {
   "cell_type": "markdown",
   "metadata": {},
   "source": [
    "To start off install and import numpy"
   ]
  },
  {
   "cell_type": "code",
   "execution_count": 2,
   "metadata": {},
   "outputs": [],
   "source": [
    "import numpy as np"
   ]
  },
  {
   "cell_type": "markdown",
   "metadata": {},
   "source": [
    "Next let's create our first array"
   ]
  },
  {
   "cell_type": "code",
   "execution_count": 5,
   "metadata": {},
   "outputs": [
    {
     "name": "stdout",
     "output_type": "stream",
     "text": [
      "[[1 2 3]\n",
      " [4 5 6]\n",
      " [7 8 9]]\n"
     ]
    }
   ],
   "source": [
    "first_array = np.array([[1, 2, 3], [4, 5, 6], [7, 8, 9]])\n",
    "print(first_array)"
   ]
  },
  {
   "cell_type": "markdown",
   "metadata": {},
   "source": [
    "Access your NumPy array the same way you would access a regular python list:"
   ]
  },
  {
   "cell_type": "code",
   "execution_count": 7,
   "metadata": {},
   "outputs": [
    {
     "name": "stdout",
     "output_type": "stream",
     "text": [
      "[1 2 3]\n"
     ]
    }
   ],
   "source": [
    "print(first_array[0])"
   ]
  },
  {
   "cell_type": "markdown",
   "metadata": {},
   "source": [
    "Lets take a look at some basic operations we can do between Numpy arrays:"
   ]
  },
  {
   "cell_type": "code",
   "execution_count": 19,
   "metadata": {},
   "outputs": [
    {
     "name": "stdout",
     "output_type": "stream",
     "text": [
      "Adding:  [5 7 9]\n",
      "Subtracting:  [3 3 3]\n",
      "Multiplying:  [ 4 10 18]\n",
      "Divinding:  [0.25 0.4  0.5 ]\n",
      "Concatenated Arrays:  [1 2 3 4 5 6]\n"
     ]
    }
   ],
   "source": [
    "first_array = np.array([1, 2, 3])\n",
    "second_array = np.array([4, 5, 6])\n",
    "\n",
    "#Adding elements in both array to corrseponding index\n",
    "print(\"Adding: \",first_array + second_array)\n",
    "\n",
    "#Subtracting elements in first array from corrseponding element in second array\n",
    "print(\"Subtracting: \",second_array - first_array)\n",
    "\n",
    "#Multiplying elements in both array to corrseponding index\n",
    "print(\"Multiplying: \",first_array * second_array)\n",
    "\n",
    "#Divinding elements in first array from corrseponding element in second array\n",
    "print(\"Divinding: \", first_array / second_array)\n",
    "\n",
    "#Concatenating NumPy arrays\n",
    "print(\"Concatenated Arrays: \", np.concatenate( (first_array, second_array ) ) )"
   ]
  },
  {
   "cell_type": "code",
   "execution_count": null,
   "metadata": {},
   "outputs": [],
   "source": []
  }
 ],
 "metadata": {
  "kernelspec": {
   "display_name": "Python 3",
   "language": "python",
   "name": "python3"
  },
  "language_info": {
   "codemirror_mode": {
    "name": "ipython",
    "version": 3
   },
   "file_extension": ".py",
   "mimetype": "text/x-python",
   "name": "python",
   "nbconvert_exporter": "python",
   "pygments_lexer": "ipython3",
   "version": "3.6.12"
  }
 },
 "nbformat": 4,
 "nbformat_minor": 4
}
