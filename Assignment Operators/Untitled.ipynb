{
 "cells": [
  {
   "cell_type": "markdown",
   "metadata": {},
   "source": [
    "# Python Assignment operators\n",
    "Assignment operators are used to assign values to variables."
   ]
  },
  {
   "cell_type": "markdown",
   "metadata": {},
   "source": [
    "|Operator|Example|Same As|\n",
    "|:-----------:|:---------:|:----------:|\n",
    "| = |x=5|x=5|\n",
    "|+= |x+=3|x=x+3|\n",
    "|-= |   x -= 3\t|x = x - 3\t|\n",
    "|*= |\tx *= 3\t|x = x * 3\t|\n",
    "|/=\t|   x /= 3\t|x = x / 3  |\n",
    "|%=\t|   x %= 3\t|x = x % 3\t|\n",
    "|//=|\tx//= 3\t|x = x // 3\t|\n",
    "|**=|\tx**= 3\t|x = x ** 3\t|\n",
    "|&=\t|   x &= 3\t|x = x & 3\t|\n",
    "||=\t|   x |= 3\t|x = x | 3\t|\n",
    "|^=\t|   x  ^= 3\t|x = x ^ 3\t|\n",
    "|>>=|\tx >>= 3\t|x = x >> 3\t|\n",
    "|<<=|\tx <<= 3 |x = x << 3 |\n"
   ]
  }
 ],
 "metadata": {
  "kernelspec": {
   "display_name": "Python 3",
   "language": "python",
   "name": "python3"
  },
  "language_info": {
   "codemirror_mode": {
    "name": "ipython",
    "version": 3
   },
   "file_extension": ".py",
   "mimetype": "text/x-python",
   "name": "python",
   "nbconvert_exporter": "python",
   "pygments_lexer": "ipython3",
   "version": "3.6.9"
  }
 },
 "nbformat": 4,
 "nbformat_minor": 4
}
