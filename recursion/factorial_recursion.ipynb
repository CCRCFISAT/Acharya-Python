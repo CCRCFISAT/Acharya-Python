{
  "nbformat": 4,
  "nbformat_minor": 0,
  "metadata": {
    "colab": {
      "name": "factorial recursion.ipynb",
      "provenance": []
    },
    "kernelspec": {
      "name": "python3",
      "display_name": "Python 3"
    }
  },
  "cells": [
    {
      "cell_type": "code",
      "metadata": {
        "id": "dJ6yGd3voXGH"
      },
      "source": [
        ""
      ],
      "execution_count": null,
      "outputs": []
    },
    {
      "cell_type": "markdown",
      "metadata": {
        "id": "jn5NRhjnoeyB"
      },
      "source": [
        "Factorial using recursion \n",
        "\n",
        "---\n",
        "\n",
        "The objective of this notebook is to explain how to implement factorial using recursion.\n",
        "\n",
        "Example \n",
        "\n",
        "5! =1 X 2 X 3 X 4 X  5\n",
        "\n",
        "Lets see the non-recursive version of the same."
      ]
    },
    {
      "cell_type": "code",
      "metadata": {
        "id": "sBPTT4lgqj7s",
        "outputId": "dc446da8-96dc-4943-f3ad-d125435f18e4",
        "colab": {
          "base_uri": "https://localhost:8080/",
          "height": 35
        }
      },
      "source": [
        "x=5\n",
        "fact=1\n",
        "for  i in range(2,x+1):\n",
        "  fact=fact*i\n",
        "print(fact)"
      ],
      "execution_count": 1,
      "outputs": [
        {
          "output_type": "stream",
          "text": [
            "120\n"
          ],
          "name": "stdout"
        }
      ]
    },
    {
      "cell_type": "markdown",
      "metadata": {
        "id": "TRIVil87q2lq"
      },
      "source": [
        "Now lets convert the loop into a recursive function"
      ]
    },
    {
      "cell_type": "code",
      "metadata": {
        "id": "Idb_zkCEq0e5"
      },
      "source": [
        "def factorial(x):\n",
        "  if x==1: return 1\n",
        "  return x* factorial(x-1)"
      ],
      "execution_count": 2,
      "outputs": []
    },
    {
      "cell_type": "code",
      "metadata": {
        "id": "1Pxo4dPnrFtf",
        "outputId": "48214830-b883-4e91-e47a-d4fd4c92fe1d",
        "colab": {
          "base_uri": "https://localhost:8080/",
          "height": 35
        }
      },
      "source": [
        "print(factorial(x))"
      ],
      "execution_count": 3,
      "outputs": [
        {
          "output_type": "stream",
          "text": [
            "120\n"
          ],
          "name": "stdout"
        }
      ]
    },
    {
      "cell_type": "code",
      "metadata": {
        "id": "1Frag9SsrLav"
      },
      "source": [
        ""
      ],
      "execution_count": null,
      "outputs": []
    }
  ]
}