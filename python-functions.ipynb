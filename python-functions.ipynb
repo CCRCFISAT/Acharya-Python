{
 "cells": [
  {
   "cell_type": "markdown",
   "metadata": {},
   "source": [
    "<h1> Using Functions </h1>"
   ]
  },
  {
   "cell_type": "markdown",
   "metadata": {},
   "source": [
    "<h3>Introduction to Using Functions</h3><br>\n",
    "\n",
    "&emsp;&ensp;In Python, a function is a named block of code that performs a specific task.\n",
    "\n",
    "* One example of this finding the square root of a number.Python has a function   in its standard library named sqrt . We will discuss more about built in       functions in upcoming lectures.  "
   ]
  },
  {
   "cell_type": "markdown",
   "metadata": {},
   "source": [
    "<b>What is the use of functions?</b><br>\n",
    "&emsp; Let's understand it by a simple program :<br>\n",
    "\n",
    "* Suppose we have a program to perform the four basic arithmetic operation as     per users wish.If we write it without functions then the code becomes very     difficult to debug and it reduces the readbility also.\n",
    "\n",
    "* Now let us try to do the same problem with the help of function.\n"
   ]
  },
  {
   "cell_type": "code",
   "execution_count": 7,
   "metadata": {},
   "outputs": [
    {
     "name": "stdout",
     "output_type": "stream",
     "text": [
      "3 + 5 = 8\n",
      "8 * 5 = 40\n",
      "7 - 3 = 4\n"
     ]
    }
   ],
   "source": [
    "def operation(num1,num2,operator):\n",
    "    if operator == '+':\n",
    "        print(num1,operator,num2,\"=\",num1 + num2)\n",
    "    elif operator == '-':\n",
    "        print(num1,operator,num2,\"=\",num1 - num2)\n",
    "    elif operator == '*':\n",
    "        print(num1,operator,num2,\"=\",num1 * num2)\n",
    "    elif operator == '/':\n",
    "        print(num1,operator,num2,\"=\",num1 / num2)\n",
    "    else:\n",
    "        print(\"Invalid operator\")\n",
    "        \n",
    "operation(3,5,'+')\n",
    "operation(8,5,'*')\n",
    "operation(7,3,'-')"
   ]
  },
  {
   "cell_type": "markdown",
   "metadata": {},
   "source": [
    "* Whenever we need to do some basic arithmetic operations on two numbers we can   call this functions."
   ]
  },
  {
   "cell_type": "markdown",
   "metadata": {},
   "source": [
    "<hr style=\"border:2px solid gray\"> </hr>"
   ]
  },
  {
   "cell_type": "markdown",
   "metadata": {},
   "source": [
    "<h3>How to write Functions</h3><br>\n",
    "&emsp;We now know the importance of functions in a program.Now let's study how to write funtions.<br>\n",
    "<b>In python funtion is written using the keyword `def` following the function      name.</b>\n",
    "\n",
    "* The general form is :\n",
    "\n",
    "    &emsp;&emsp;def funtion_name(paramter1,paramter2,...) :\n",
    "             return block\n",
    "        \n",
    "  * <b>funtion_name</b> : Every function has a name that identifies the code to be         executed. Function names follow the\n",
    "    same rules as variable names; a function name is another example of an         identifier.\n",
    " \n",
    "  * <b>Parameters</b>. A function can be called with a certain number of parameters,       and each parameter must be the correct type. Some functions, like print         and range, permit clients to pass a variable number of arguments, but most     functions, like sqrt, specify an exact number. If a client attempts to\n",
    "    call a function with too many or too few parameters, the interpreter will       issue an error message and refuse to run the program.\n",
    "    \n",
    "&emsp;In the above program the function name is <b>operation</b> and paramters are <b> num1 ,num2, operator</b>.<br>\n",
    "\n",
    "    \n",
    "\n",
    "    "
   ]
  },
  {
   "cell_type": "markdown",
   "metadata": {},
   "source": [
    "<hr style=\"border:2px solid gray\"> </hr>"
   ]
  },
  {
   "cell_type": "markdown",
   "metadata": {},
   "source": [
    "<h3>How to call Functions</h3><br>\n",
    "&emsp;We can call functions by their function name() and pass the arguments inside the parentheses(if any specifed in the function header).\n",
    "\n",
    "* In the above program ,the function  is called with the function name and passed the 3 paramters(because it accept 3 arguments).If we call the funtion as operation(4,5,'+') then,4 will be stored in num1 ,5 in num2 and '+' in operator.<b>This type of function call is called call by value</b>."
   ]
  },
  {
   "cell_type": "markdown",
   "metadata": {},
   "source": [
    "<hr style=\"border:2px solid gray\"> </hr>"
   ]
  },
  {
   "cell_type": "markdown",
   "metadata": {},
   "source": [
    "<h3>Return type</h3><br>\n",
    "&emsp;Some function return some value to the client.To return some value to the client we will use <b>return</b> keyword.\n"
   ]
  },
  {
   "cell_type": "code",
   "execution_count": 8,
   "metadata": {},
   "outputs": [
    {
     "name": "stdout",
     "output_type": "stream",
     "text": [
      "This function return a string\n"
     ]
    }
   ],
   "source": [
    "def func1():\n",
    "    return \"This function return a string\"\n",
    "\n",
    "val = func1()\n",
    "print(val)"
   ]
  },
  {
   "cell_type": "markdown",
   "metadata": {},
   "source": [
    "In this program the funtion is returning a string to the client and the client accept the return value and store it in the variable val.\n",
    "\n",
    "* return type is used in functions.<br>\n",
    "* It is usually placed at the end of the funtion.<br>\n",
    "* It can return more than one value in a return statement.<br>\n"
   ]
  },
  {
   "cell_type": "code",
   "execution_count": 9,
   "metadata": {},
   "outputs": [
    {
     "name": "stdout",
     "output_type": "stream",
     "text": [
      "This number is  12\n"
     ]
    }
   ],
   "source": [
    "def func2():\n",
    "    return \"This number is \",12\n",
    "val,num = func2()\n",
    "\n",
    "print(val,num)"
   ]
  },
  {
   "cell_type": "markdown",
   "metadata": {},
   "source": [
    "<hr style=\"border:2px solid gray\"> </hr>"
   ]
  },
  {
   "cell_type": "markdown",
   "metadata": {},
   "source": [
    "<h3>Importing other modules</h3><br>\n",
    "&emsp; We can import other modules in python program in following ways :<br>\n",
    "* <b>from math import sqrt,pow :</b><br>\n",
    "   This type will import only the neccessary function to the program.Here it will import only sqrt and pow                          function from the module math.We can call the function using the function name sqrt() and passing a                               integer argument.\n",
    "               \n",
    "* <b> from math import * </b>:<br>\n",
    "   This will import all the functions to the program from math module.Such type of import is not preferred.We can                   call the function using the function name sqrt() and passing a integer argument.<br>\n",
    "* <b>import math :</b><br>\n",
    "  This will not import any class or functions in the modules.We can call the function using math.sqrt(5)"
   ]
  },
  {
   "cell_type": "markdown",
   "metadata": {},
   "source": [
    "<hr style=\"border:2px solid gray\"> </hr>"
   ]
  },
  {
   "cell_type": "markdown",
   "metadata": {},
   "source": [
    "<h3> Standard Mathematical Functions</h3><br>\n",
    "\n",
    "<b>sqrt</b> => Computes the square root of a number: sqrt(x) =√x.<br>\n",
    "\n",
    "<b>exp</b> => Computes e raised a power: exp(x) = $e^{x}$.<br>\n",
    "\n",
    "<b>log</b> => Computes the natural logarithm of a number: log(x) = $log_{x}$ - lnx.<br>\n",
    "\n",
    "<b>log10</b> => Computes the common logarithm of a number: log(x) = log10 x.<br>\n",
    "\n",
    "<b>cos</b> => Computes the cosine of a value specified in radians: cos(x) = cos x.other trigonometric functions include sine, tangent, arc cosine, arc sine, arc tangent, hyperbolic cosine, hyperbolic sine, and hyperbolic tangent.<br>\n",
    "\n",
    "<b>pow</b> => Raises one number to a power of another: pow(x,y) = ${x}^y$.<br>\n",
    "\n",
    "<b>degrees</b> => Converts a value in radians to degrees: degrees(x) =(π /180) * x.<br>\n",
    "\n",
    "<b>radians</b> => Converts a value in degrees to radians: radians(x) = (180 / π) * x.<br>\n",
    "\n",
    "<b>fabs</b> => Computes the absolute value of a number: fabs(x) = |x|.<br>\n"
   ]
  },
  {
   "cell_type": "code",
   "execution_count": 9,
   "metadata": {},
   "outputs": [
    {
     "name": "stdout",
     "output_type": "stream",
     "text": [
      "Square root of 12 is  12.0\n",
      "2^4 is  16.0\n",
      "sin 30 degree  is  0.49999999999999994\n"
     ]
    }
   ],
   "source": [
    "import math\n",
    "\n",
    "result = math.sqrt(144)\n",
    "print(\"Square root of 12 is \",result)\n",
    "\n",
    "result = math.pow(2,4)\n",
    "print(\"2^4 is \",result)\n",
    "\n",
    "\n",
    "radian = math.radians(30)\n",
    "result = math.sin(radian)\n",
    "print(\"sin 30 degree  is \",result)\n"
   ]
  },
  {
   "cell_type": "markdown",
   "metadata": {},
   "source": [
    "<hr style=\"border:2px solid gray\"> </hr>"
   ]
  },
  {
   "cell_type": "markdown",
   "metadata": {},
   "source": [
    "<h3> Time functions </h3><br>\n",
    "\n",
    "The time package contains a number of functions that relate to time. We will consider two: process_time and\n",
    "sleep.\n",
    "\n",
    "In the earlier versions of python ,clock finction was there but  in Python 3.8 it was removed after being deprecated in Python 3.3.We will use time.process_time() for the clock."
   ]
  },
  {
   "cell_type": "code",
   "execution_count": 22,
   "metadata": {},
   "outputs": [
    {
     "name": "stdout",
     "output_type": "stream",
     "text": [
      "sum :  5000000050000000  time :  27.125\n"
     ]
    }
   ],
   "source": [
    "from time import process_time\n",
    "\n",
    "sum = 0;\n",
    "start_time = process_time()\n",
    "\n",
    "for i in range(1,100000001):\n",
    "    sum += i\n",
    "\n",
    "elapsed = process_time() - start_time\n",
    "\n",
    "print(\"sum : \",sum,\" time : \",elapsed)"
   ]
  },
  {
   "cell_type": "markdown",
   "metadata": {},
   "source": [
    "* sleep() function suspend execution for a particulat time"
   ]
  },
  {
   "cell_type": "code",
   "execution_count": 25,
   "metadata": {},
   "outputs": [
    {
     "name": "stdout",
     "output_type": "stream",
     "text": [
      "1\n",
      "2\n",
      "3\n",
      "4\n",
      "5\n",
      "6\n",
      "7\n",
      "8\n",
      "9\n"
     ]
    }
   ],
   "source": [
    "from time import sleep\n",
    "\n",
    "for i in range(1,10):\n",
    "    print(i)\n",
    "    sleep(2) # suspend execution for 2 second "
   ]
  },
  {
   "cell_type": "markdown",
   "metadata": {},
   "source": [
    "<hr style=\"border:2px solid gray\"> </hr>"
   ]
  },
  {
   "cell_type": "markdown",
   "metadata": {},
   "source": [
    "<h3> Random functions </h3><br>\n",
    "\n",
    "There may be situation to generate some random values in a program.To acheive it we can use random module.\n",
    "\n",
    "All algorithmic random number generators actually produce pseudorandom numbers, not true random numbers. A pseudorandom number generator has a particular period, based on the nature of the algorithm used.\n",
    "\n",
    "<b><u>Random Module functions</u></b>\n",
    "\n",
    "<b>random</b> => Returns a pseudorandom floating-point number x in the range 0 ≤ x < 1.<br>\n",
    "\n",
    "<b>randrange</b> => Returns a pseudorandom integer value within a specified range.<br>\n",
    "\n",
    "<b>seed</b> => Sets the random number seed.<br>"
   ]
  },
  {
   "cell_type": "code",
   "execution_count": 29,
   "metadata": {},
   "outputs": [
    {
     "name": "stdout",
     "output_type": "stream",
     "text": [
      "766 929 208 676 211 443 616 558 59 131 795 974 783 489 43 748 700 639 515 176 651 440 977 249 766 419 735 865 207 806 710 996 877 30 683 961 875 228 148 133 222 612 495 859 784 980 399 374 250 848 \n"
     ]
    }
   ],
   "source": [
    "from random import randrange,seed\n",
    "\n",
    "seed(26)\n",
    "for i in range(0,50):\n",
    "    print(randrange(1,1000),end=\" \") # Range 1...1000\n",
    "print()                              # print new line"
   ]
  },
  {
   "cell_type": "markdown",
   "metadata": {},
   "source": [
    "Since we seed a random number even if we re-run the above code the values will not change unless we change the seed value."
   ]
  }
 ],
 "metadata": {
  "kernelspec": {
   "display_name": "Python 3",
   "language": "python",
   "name": "python3"
  },
  "language_info": {
   "codemirror_mode": {
    "name": "ipython",
    "version": 3
   },
   "file_extension": ".py",
   "mimetype": "text/x-python",
   "name": "python",
   "nbconvert_exporter": "python",
   "pygments_lexer": "ipython3",
   "version": "3.8.0"
  }
 },
 "nbformat": 4,
 "nbformat_minor": 4
}
