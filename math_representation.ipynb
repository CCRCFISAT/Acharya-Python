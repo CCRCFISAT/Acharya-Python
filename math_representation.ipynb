{
  "nbformat": 4,
  "nbformat_minor": 0,
  "metadata": {
    "colab": {
      "name": "math-representation.ipynb",
      "provenance": [],
      "collapsed_sections": []
    },
    "kernelspec": {
      "name": "python3",
      "display_name": "Python 3"
    }
  },
  "cells": [
    {
      "cell_type": "markdown",
      "metadata": {
        "id": "L7_wRrnTYu_Y"
      },
      "source": [
        "Number-theoretic and representation functions"
      ]
    },
    {
      "cell_type": "code",
      "metadata": {
        "id": "L4al7toMY944"
      },
      "source": [
        "import math"
      ],
      "execution_count": 9,
      "outputs": []
    },
    {
      "cell_type": "markdown",
      "metadata": {
        "id": "TI8hJXPdY1T3"
      },
      "source": [
        "ceil function- Return the ceiling of x"
      ]
    },
    {
      "cell_type": "code",
      "metadata": {
        "id": "5zC6ArYdYqIf",
        "outputId": "c64efd6e-fd6b-4464-9c91-6b609d8fec4c",
        "colab": {
          "base_uri": "https://localhost:8080/"
        }
      },
      "source": [
        "x=3.4\n",
        "math.ceil(x)\n"
      ],
      "execution_count": 10,
      "outputs": [
        {
          "output_type": "execute_result",
          "data": {
            "text/plain": [
              "4"
            ]
          },
          "metadata": {
            "tags": []
          },
          "execution_count": 10
        }
      ]
    },
    {
      "cell_type": "markdown",
      "metadata": {
        "id": "s3U2XkaXZQu_"
      },
      "source": [
        "math.fabs(x) - Return the absolute value of x."
      ]
    },
    {
      "cell_type": "code",
      "metadata": {
        "id": "abuAHkfsZAQq",
        "outputId": "b5303e6a-216c-48f7-9f65-da72ef855c2d",
        "colab": {
          "base_uri": "https://localhost:8080/"
        }
      },
      "source": [
        "math.fabs(-4)"
      ],
      "execution_count": 11,
      "outputs": [
        {
          "output_type": "execute_result",
          "data": {
            "text/plain": [
              "4.0"
            ]
          },
          "metadata": {
            "tags": []
          },
          "execution_count": 11
        }
      ]
    },
    {
      "cell_type": "markdown",
      "metadata": {
        "id": "DItzemnIb2ua"
      },
      "source": [
        "math.factorial(x) - Return x factorial as an integer."
      ]
    },
    {
      "cell_type": "code",
      "metadata": {
        "id": "vo0Gv8mzZc93",
        "outputId": "bf1064dd-d65d-42cf-9790-36bbd364c07a",
        "colab": {
          "base_uri": "https://localhost:8080/"
        }
      },
      "source": [
        "math.factorial(5)"
      ],
      "execution_count": 12,
      "outputs": [
        {
          "output_type": "execute_result",
          "data": {
            "text/plain": [
              "120"
            ]
          },
          "metadata": {
            "tags": []
          },
          "execution_count": 12
        }
      ]
    },
    {
      "cell_type": "markdown",
      "metadata": {
        "id": "Zk6vX5G3cI5G"
      },
      "source": [
        "math.gcd(*integers) - Return the greatest common divisor of the specified integer arguments. "
      ]
    },
    {
      "cell_type": "code",
      "metadata": {
        "id": "29yxwtUZb_Fk",
        "outputId": "6c384776-cc78-4425-df7d-736fa6522d54",
        "colab": {
          "base_uri": "https://localhost:8080/"
        }
      },
      "source": [
        "math.gcd(12,14)"
      ],
      "execution_count": 13,
      "outputs": [
        {
          "output_type": "execute_result",
          "data": {
            "text/plain": [
              "2"
            ]
          },
          "metadata": {
            "tags": []
          },
          "execution_count": 13
        }
      ]
    }
  ]
}