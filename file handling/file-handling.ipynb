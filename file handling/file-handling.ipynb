{
 "cells": [
  {
   "cell_type": "markdown",
   "metadata": {},
   "source": [
    "<h1><u>File handling</u></h1>"
   ]
  },
  {
   "cell_type": "markdown",
   "metadata": {},
   "source": [
    "<h3><u> Opening a file </u></h3>\n",
    "\n",
    "*         File handling is an important part of any web application.Python has several functions for                          creating,reading,updating,and deleting files."
   ]
  },
  {
   "cell_type": "markdown",
   "metadata": {},
   "source": [
    "* To open a file we use <b>open()</b> function.\n",
    "\n",
    "* It takes two paramters :\n",
    "        i. Name of the file to open if both the file and script in same directory else specify the relative path to the file location.\n",
    "        ii.Mode in which file should open.\n",
    "        \n",
    "| Modes | Operations |\n",
    "| :- | :- | \n",
    "| w | Opens file for writing , if the file doesn't exist it will create one \n",
    "| r | Default value. Opens a file for reading, error if the file does not exist \n",
    "| a | Append - Opens a file for appending, creates the file if it does not exist \n",
    "| x | Create - Creates the specified file, returns an error if the file exists\n",
    "\n",
    "* In addition you can specify if the file should be handled as binary or text mode\n",
    "\n",
    "&emsp;&emsp;<b style = \"color:#019131\"> t </b> : Default , Opens file in text mode .\n",
    "<b style = \"color:#019131\">b</b> : Opens file in Binary  mode.\n"
   ]
  },
  {
   "cell_type": "code",
   "execution_count": 10,
   "metadata": {},
   "outputs": [
    {
     "name": "stdout",
     "output_type": "stream",
     "text": [
      "Opened file without any error\n"
     ]
    }
   ],
   "source": [
    "filename = \"test.txt\"\n",
    "f = open(filename) # test.txt file exist in the local directory\n",
    "\n",
    "# the file is opened in read mode which is the default mode\n",
    "print(\"Opened file without any error\")\n",
    "\n",
    "f.close() # close the file"
   ]
  },
  {
   "cell_type": "markdown",
   "metadata": {},
   "source": [
    "<hr style=\"border:2px solid gray\"> </hr>"
   ]
  },
  {
   "cell_type": "markdown",
   "metadata": {},
   "source": [
    "<h3><u>Basic file operations :</u><h3>"
   ]
  },
  {
   "cell_type": "code",
   "execution_count": 11,
   "metadata": {},
   "outputs": [
    {
     "name": "stdout",
     "output_type": "stream",
     "text": [
      "Writed to the file without any errors\n"
     ]
    }
   ],
   "source": [
    "f = open(filename,'wt') # opens the file for writing in text mode(default)\n",
    "\n",
    "f.write(\"This is a sample text\") # To write we use write() method and provide a string as argument.\n",
    "\n",
    "print(\"Writed to the file without any errors\")\n",
    "\n",
    "f.close()"
   ]
  },
  {
   "cell_type": "markdown",
   "metadata": {},
   "source": [
    "<hr style=\"border:1px dashed red\"> </hr>"
   ]
  },
  {
   "cell_type": "code",
   "execution_count": 12,
   "metadata": {},
   "outputs": [
    {
     "name": "stdout",
     "output_type": "stream",
     "text": [
      "This is a sample text\n"
     ]
    }
   ],
   "source": [
    "f = open(filename,'r') # opens the file for reading\n",
    "\n",
    "print(f.read()) # we use read() method to read the contents in the file\n",
    "\n",
    "f.close()"
   ]
  },
  {
   "cell_type": "markdown",
   "metadata": {},
   "source": [
    "<hr style=\"border:1px dashed red\"> </hr>"
   ]
  },
  {
   "cell_type": "markdown",
   "metadata": {},
   "source": [
    "* Now let's add more contents to the file."
   ]
  },
  {
   "cell_type": "code",
   "execution_count": 23,
   "metadata": {},
   "outputs": [
    {
     "name": "stdout",
     "output_type": "stream",
     "text": [
      "Writed contents to the file Successfully\n"
     ]
    }
   ],
   "source": [
    "contents = [\"This is the first line \",\"This is the second line \",\"This is the third line\",\"This is the fourth line\"]\n",
    "\n",
    "f = open(filename,\"w\") # we need to open the file in write mode for writing\n",
    "\n",
    "for i in range(len(contents)):\n",
    "    f.write(contents[i] + '\\n')\n",
    "print(\"Writed contents to the file Successfully\")  \n",
    "f.close()"
   ]
  },
  {
   "cell_type": "markdown",
   "metadata": {},
   "source": [
    "<hr style=\"border:1px dashed red\"> </hr>"
   ]
  },
  {
   "cell_type": "markdown",
   "metadata": {},
   "source": [
    "* If the file already has some contents then,opening the file in write mode will overwrite content in the existing file.\n",
    "\n",
    "* Let's print the contents in the file."
   ]
  },
  {
   "cell_type": "code",
   "execution_count": 25,
   "metadata": {},
   "outputs": [
    {
     "name": "stdout",
     "output_type": "stream",
     "text": [
      "This is the first line \n",
      "\n",
      "This is the second line \n",
      "\n"
     ]
    }
   ],
   "source": [
    "f = open(filename,\"r\")\n",
    "print(f.readline()) # You can return one line by using the readline() method\n",
    "print(f.readline()) # By calling readline() two times, you can read the  first two lines:\n",
    "f.close()"
   ]
  },
  {
   "cell_type": "markdown",
   "metadata": {},
   "source": [
    "<hr style=\"border:1px dashed red\"> </hr>"
   ]
  },
  {
   "cell_type": "markdown",
   "metadata": {},
   "source": [
    "* If we want to add contents to a exisiting file without overwriting ,then we can open the file in append mode ."
   ]
  },
  {
   "cell_type": "code",
   "execution_count": 24,
   "metadata": {},
   "outputs": [
    {
     "name": "stdout",
     "output_type": "stream",
     "text": [
      "Writed contents to the file Successfully\n",
      "\n",
      "Printing the contents in the file\n",
      "\n",
      "This is the first line \n",
      "This is the second line \n",
      "This is the third line\n",
      "This is the fourth line\n",
      "This is the fifith line \n",
      "This is the sixth line \n",
      "\n"
     ]
    }
   ],
   "source": [
    "moreContents = [\"This is the fifith line \",\"This is the sixth line \"]\n",
    "\n",
    "f = open(filename,'a')\n",
    "\n",
    "for i in range(len(moreContents)):\n",
    "    f.write(moreContents[i] + '\\n')\n",
    "\n",
    "print(\"Writed contents to the file Successfully\\n\") \n",
    "\n",
    "f.close()\n",
    "\n",
    "print(\"Printing the contents in the file\\n\")\n",
    "\n",
    "f = open(filename,'r')\n",
    "\n",
    "print(f.read())\n",
    "\n",
    "f.close()"
   ]
  },
  {
   "cell_type": "markdown",
   "metadata": {},
   "source": [
    "<hr style=\"border:2px solid gray\"> </hr>"
   ]
  },
  {
   "cell_type": "markdown",
   "metadata": {},
   "source": [
    "<h3><u> More convenient way :</u></h3>\n",
    "\n",
    "&emsp;&emsp;As we know how to open a file in different mode and perform some basic opertaions.The problem with this approach is that we need to manually close the file after we done with the file.<b style = \"color:#f03e3e\">Failure to close the file can result in memory leaks and data loss.</b>\n",
    "* To solve this python provides much a more effective way to open a  file using <b style = \"color:#019131\"> with </b> keyword."
   ]
  },
  {
   "cell_type": "code",
   "execution_count": 26,
   "metadata": {},
   "outputs": [
    {
     "name": "stdout",
     "output_type": "stream",
     "text": [
      "This is the first line \n",
      "This is the second line \n",
      "This is the third line\n",
      "This is the fourth line\n",
      "This is the fifith line \n",
      "This is the sixth line \n",
      "\n"
     ]
    }
   ],
   "source": [
    "with open(filename,'r') as f:\n",
    "    print(f.read())"
   ]
  },
  {
   "cell_type": "markdown",
   "metadata": {},
   "source": [
    "* While we using in this way python automatically close the file for us."
   ]
  },
  {
   "cell_type": "markdown",
   "metadata": {},
   "source": [
    "<hr style=\"border:1px dashed red\"> </hr>"
   ]
  },
  {
   "cell_type": "markdown",
   "metadata": {},
   "source": [
    "* Now we can open a file in binary mode :"
   ]
  },
  {
   "cell_type": "code",
   "execution_count": 28,
   "metadata": {},
   "outputs": [
    {
     "name": "stdout",
     "output_type": "stream",
     "text": [
      "b'This is the first line \\r\\nThis is the second line \\r\\nThis is the third line\\r\\nThis is the fourth line\\r\\nThis is the fifith line \\r\\nThis is the sixth line \\r\\n'\n"
     ]
    }
   ],
   "source": [
    "with open(filename,'rb') as f:\n",
    "    print(f.read())"
   ]
  },
  {
   "cell_type": "markdown",
   "metadata": {},
   "source": [
    "* The output is in the form of byte String."
   ]
  },
  {
   "cell_type": "markdown",
   "metadata": {},
   "source": [
    "<h3><u>Deleting a file </u></h3>\n",
    "\n",
    "&emsp;&emsp;For deleting the file we will use <b style = \"color:#019131\">os.remove()</b> function from os module and specify the path to the file location ."
   ]
  },
  {
   "cell_type": "code",
   "execution_count": 31,
   "metadata": {},
   "outputs": [
    {
     "name": "stdout",
     "output_type": "stream",
     "text": [
      "Successfully removed the file\n"
     ]
    }
   ],
   "source": [
    "import os\n",
    "\n",
    "if(os.path.exists(filename)):\n",
    "    os.remove(filename)\n",
    "    print(\"Successfully removed the file\")\n",
    "else:\n",
    "    print(\"No file exist with file name \", filename)\n",
    "    "
   ]
  },
  {
   "cell_type": "code",
   "execution_count": null,
   "metadata": {},
   "outputs": [],
   "source": []
  }
 ],
 "metadata": {
  "kernelspec": {
   "display_name": "Python 3",
   "language": "python",
   "name": "python3"
  },
  "language_info": {
   "codemirror_mode": {
    "name": "ipython",
    "version": 3
   },
   "file_extension": ".py",
   "mimetype": "text/x-python",
   "name": "python",
   "nbconvert_exporter": "python",
   "pygments_lexer": "ipython3",
   "version": "3.8.0"
  }
 },
 "nbformat": 4,
 "nbformat_minor": 4
}
