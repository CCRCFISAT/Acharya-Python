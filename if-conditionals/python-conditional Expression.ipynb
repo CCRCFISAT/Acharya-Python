{
 "cells": [
  {
   "cell_type": "markdown",
   "metadata": {},
   "source": [
    "<h1><u>1. Conditional Execuation</u></h1>\n",
    "\n"
   ]
  },
  {
   "cell_type": "markdown",
   "metadata": {},
   "source": [
    "<h3>1.1 Boolean Expression<h3>"
   ]
  },
  {
   "cell_type": "markdown",
   "metadata": {},
   "source": [
    "| Expression | Meaining |\n",
    "| :- | -: | :-: |\n",
    "| x == y | True if x = y (mathematical equality, not assignment); otherwise, false\n",
    "| x < y | True if x < y; otherwise, false\n",
    "| x <= y | True if x ≤ y; otherwise, false\n",
    "|x > y | True if x > y; otherwise, false\n",
    "| x <= y | True if x ≥ y; otherwise, false\n",
    "| x != y| True if x 6= y; otherwise, false\n"
   ]
  },
  {
   "cell_type": "code",
   "execution_count": 1,
   "metadata": {},
   "outputs": [
    {
     "name": "stdout",
     "output_type": "stream",
     "text": [
      "a = True  b = False\n",
      "a = False  b = False\n"
     ]
    }
   ],
   "source": [
    "# Assign some Boolean variables\n",
    "a = True\n",
    "b = False\n",
    "print('a =', a, ' b =', b)\n",
    "# Reassign a\n",
    "a = False;\n",
    "print('a =', a, ' b =', b)\n"
   ]
  },
  {
   "cell_type": "markdown",
   "metadata": {},
   "source": [
    "<hr style=\"border:2px solid gray\"> </hr>"
   ]
  },
  {
   "cell_type": "markdown",
   "metadata": {},
   "source": [
    "<h3>1.2 if Statement</h3>\n",
    "\n",
    " if statement is written by using the `if` keyword.\n",
    "\n",
    "  Make sure to add indentation(ie: A Tab space or 4 white space)\n",
    "  Python relies on indentation (whitespace at the beginning of a line) to define scope in the code.\n",
    "\n",
    "\n",
    " General form of if statement is \n",
    "\n",
    "              if condition :\n",
    "                   block\n",
    "\n",
    "* The reserved word if begins a if statement.\n",
    "\n",
    "* The condition is a Boolean expression that determines whether or not the body   will be executed. A colon (:) must follow       the condition.\n",
    "\n",
    "* <strong>If the condition is true then the body of the if statment will be executed.</strong>\n"
   ]
  },
  {
   "cell_type": "markdown",
   "metadata": {},
   "source": [
    "<b> Let's look one Example</b>\n",
    "\n",
    "* In this below program if the divisor not equal to zero then \n",
    "  the body of the if statement will be executed"
   ]
  },
  {
   "cell_type": "code",
   "execution_count": 3,
   "metadata": {},
   "outputs": [
    {
     "name": "stdout",
     "output_type": "stream",
     "text": [
      "Please enter two numbers to divide: 4,2\n",
      "4 / 2 = 2.0\n"
     ]
    }
   ],
   "source": [
    "# Get two integers from the user\n",
    "dividend, divisor = eval(input('Please enter two numbers to divide: '))\n",
    "# If possible, divide them and report the result\n",
    "if divisor != 0:\n",
    "    print(dividend, '/', divisor, \"=\", dividend/divisor)\n"
   ]
  },
  {
   "cell_type": "code",
   "execution_count": 5,
   "metadata": {},
   "outputs": [
    {
     "name": "stdout",
     "output_type": "stream",
     "text": [
      "This is one\n",
      "This is not a empty string\n"
     ]
    }
   ],
   "source": [
    "if 1:\n",
    "    print(\"This is one\")\n",
    "    \n",
    "if 0:\n",
    "    print(\"This is zero\")\n",
    "    \n",
    "if '':\n",
    "    print(\"This is a Empty String \")\n",
    "    \n",
    "if \"not a empty string\":\n",
    "    print(\"This is not a empty string\")"
   ]
  },
  {
   "cell_type": "markdown",
   "metadata": {},
   "source": [
    "    * Python treats integer value zero to be <b>False</b> and any other intger value to be <b>True</b>.\n",
    "\n",
    "    * Similarly floating value 0.0 to be <b>False</b> and any other floating values to be <b>True</b>.\n",
    "\n",
    "    * The empty string is considred as <b>False</b> and non-empty string to be <b>True</b>."
   ]
  },
  {
   "cell_type": "markdown",
   "metadata": {},
   "source": [
    "<hr style=\"border:2px solid gray\"> </hr>"
   ]
  },
  {
   "cell_type": "markdown",
   "metadata": {},
   "source": [
    "<h3>1.3 if/else Statement</h3>\n",
    "\n",
    "This is similar as simple if statement .The only difference is that if the condition \n",
    "is not satisfied the the else case is executed.  \n",
    "\n",
    "The general form of an if/else statement is\n",
    "                    if condition :\n",
    "                        block\n",
    "                    else :\n",
    "                        block\n",
    "\n",
    "* The reserved word if begins the if/else statement.\n",
    "\n",
    "* The condition is a Boolean expression that determines whether or not the if block or the else block\n",
    "    will be executed. A colon (:) must follow the condition.  "
   ]
  },
  {
   "cell_type": "code",
   "execution_count": 7,
   "metadata": {},
   "outputs": [
    {
     "name": "stdout",
     "output_type": "stream",
     "text": [
      "Those two numbers are different\n"
     ]
    }
   ],
   "source": [
    "A = 10\n",
    "B = 20\n",
    "\n",
    "if A == B:\n",
    "    print(\"Those two numbers are same \")\n",
    "else:\n",
    "    print(\"Those two numbers are different\")"
   ]
  },
  {
   "cell_type": "markdown",
   "metadata": {},
   "source": [
    "* In this example a A and B contains different value.The first if condition becomes False\n",
    "  so it will execute the else statement ."
   ]
  },
  {
   "cell_type": "markdown",
   "metadata": {},
   "source": [
    "<hr style=\"border:2px solid gray\"> </hr>"
   ]
  },
  {
   "cell_type": "markdown",
   "metadata": {},
   "source": [
    "<h3>1.4 Nested Conditionals</h3>\n"
   ]
  },
  {
   "cell_type": "code",
   "execution_count": 17,
   "metadata": {},
   "outputs": [
    {
     "name": "stdout",
     "output_type": "stream",
     "text": [
      "The value 3 is in between 0 and 5\n",
      "The value 10  is greater than 5\n"
     ]
    }
   ],
   "source": [
    "A = 3\n",
    "\n",
    "if A >= 0:\n",
    "    if A <= 5:\n",
    "        print(\"The value\", A,\"is in between 0 and 5\")\n",
    "    else:\n",
    "        print(\"The value\",A,\" is greater than 5\")\n",
    "else:\n",
    "    print(\"The value\",A,\" is less than 0\")\n",
    "    \n",
    "A = 10\n",
    "\n",
    "if A >= 0:\n",
    "    if A <= 5:\n",
    "        print(\"The value\", A,\"is in between 0 and 5\")\n",
    "    else:\n",
    "        print(\"The value\",A,\" is greater than 5\")\n",
    "else:\n",
    "    print(\"The value\",A,\" is less than 0\")"
   ]
  },
  {
   "cell_type": "markdown",
   "metadata": {},
   "source": [
    "<h4>if A contains value 3:</h4>\n",
    "\n",
    "    * The first condition is checked. It is True, the controller enters the body of the first if statement.\n",
    "      Then it will check the inner if statement and it also True,so it will print \n",
    "      `The value 3 is in between 0 and 5`.\n",
    "\n",
    "<h4>if A contains value 10:</h4>\n",
    "\n",
    "    * The first condition is checked. It is True, the controller enters the body of the first if statement.\n",
    "      Then it will check the inner if statement and it is False,so it will execute the inner else statement .\n",
    "      So it will print `The value 10  is greater than 5`."
   ]
  },
  {
   "cell_type": "markdown",
   "metadata": {},
   "source": [
    "<hr style=\"border:2px solid gray\"> </hr>"
   ]
  },
  {
   "cell_type": "markdown",
   "metadata": {},
   "source": [
    "<h3>1.4 else if ladder</h3>\n",
    "\n",
    "* suppose you have the following statement\n",
    "\n",
    "    else:\n",
    "        if value == 2:\n",
    "            print(\"two\")\n",
    "\n",
    "* This can be simplifies as:\n",
    "\n",
    "    elif value == 2:\n",
    "        print(\"two\")"
   ]
  },
  {
   "cell_type": "code",
   "execution_count": 18,
   "metadata": {},
   "outputs": [
    {
     "name": "stdout",
     "output_type": "stream",
     "text": [
      "December "
     ]
    }
   ],
   "source": [
    "month = 12\n",
    "\n",
    "if month == 1:\n",
    "    print(\"January \", end='')\n",
    "elif month == 2:\n",
    "    print(\"February \", end='')\n",
    "elif month == 3:\n",
    "    print(\"March \", end='')\n",
    "elif month == 4:\n",
    "    print(\"April \", end='')\n",
    "elif month == 5:\n",
    "    print(\"May \", end='')\n",
    "elif month == 6:\n",
    "    print(\"June \", end='')\n",
    "elif month == 7:\n",
    "    print(\"July \", end='')\n",
    "elif month == 8:\n",
    "    print(\"August \", end='')\n",
    "elif month == 9:\n",
    "    print(\"September \", end='')\n",
    "elif month == 10:\n",
    "    print(\"October \", end='')\n",
    "elif month == 11:\n",
    "    print(\"November \", end='')\n",
    "elif month == 12:\n",
    "    print(\"December \", end='')\n",
    "else :\n",
    "    print(\"Invalid number\")"
   ]
  },
  {
   "cell_type": "markdown",
   "metadata": {},
   "source": [
    "<hr style=\"border:2px solid gray\"> </hr>"
   ]
  },
  {
   "cell_type": "markdown",
   "metadata": {},
   "source": [
    "<h3>1.5 Using Logical Connectors</h3>\n",
    "\n",
    "So far we discussed about having single condition in an if statement.But we can also add multiple conditions in a single if statement.\n",
    "\n",
    "* We can combine two conditions using logical operators.(and,or,not...)\n",
    "\n",
    "Considre the following example:\n",
    "    if value > 0:\n",
    "        if value < 10:\n",
    "            print(\"in range\")\n",
    "\n",
    "This can simplifed as : \n",
    "\n",
    "    if value > 0 and value < 10:\n",
    "        print(\"in range\")\n",
    "\n"
   ]
  },
  {
   "cell_type": "code",
   "execution_count": 25,
   "metadata": {},
   "outputs": [
    {
     "name": "stdout",
     "output_type": "stream",
     "text": [
      "B+\n"
     ]
    }
   ],
   "source": [
    "score = 75\n",
    "\n",
    "if score <=100 and score > 90 :\n",
    "    print(\"A+\")\n",
    "    \n",
    "elif score <= 90 and score > 80 :\n",
    "    print(\"A\")\n",
    "    \n",
    "elif score <= 80 and score > 70 :\n",
    "    print(\"B+\")\n",
    "    \n",
    "elif score <= 70 and score > 60 :\n",
    "    print(\"B\")\n",
    "    \n",
    "elif score <= 60 and score > 50 :\n",
    "    print(\"c+\")\n",
    "    \n",
    "elif score <= 40 and score > 30 :\n",
    "    print(\"c\")\n",
    "    \n",
    "else:\n",
    "    print(\"Falied\")\n",
    "\n",
    "\n",
    "\n"
   ]
  }
 ],
 "metadata": {
  "kernelspec": {
   "display_name": "Python 3",
   "language": "python",
   "name": "python3"
  },
  "language_info": {
   "codemirror_mode": {
    "name": "ipython",
    "version": 3
   },
   "file_extension": ".py",
   "mimetype": "text/x-python",
   "name": "python",
   "nbconvert_exporter": "python",
   "pygments_lexer": "ipython3",
   "version": "3.8.0"
  }
 },
 "nbformat": 4,
 "nbformat_minor": 4
}
