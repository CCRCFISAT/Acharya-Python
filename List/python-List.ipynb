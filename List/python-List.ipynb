{
 "cells": [
  {
   "cell_type": "markdown",
   "metadata": {},
   "source": [
    "<h1><u>An Introduction to Python - Lists</u></h1>"
   ]
  },
  {
   "cell_type": "markdown",
   "metadata": {},
   "source": [
    "* Let us consider an example : \n",
    "        Write a program to accept marks of a student in 5 subject find the average of it."
   ]
  },
  {
   "cell_type": "code",
   "execution_count": 10,
   "metadata": {},
   "outputs": [
    {
     "name": "stdout",
     "output_type": "stream",
     "text": [
      "Enter the marks of 1 subject : 90\n",
      "Enter the marks of 1 subject : 89\n",
      "Enter the marks of 1 subject : 76\n",
      "Enter the marks of 1 subject : 68\n",
      "Enter the marks of 1 subject : 94\n",
      "Average is :  83.4\n"
     ]
    }
   ],
   "source": [
    "def main():\n",
    "    n1 = eval(input(\"Enter the marks of 1 subject : \"))\n",
    "    n2 = eval(input(\"Enter the marks of 1 subject : \"))\n",
    "    n3 = eval(input(\"Enter the marks of 1 subject : \"))\n",
    "    n4 = eval(input(\"Enter the marks of 1 subject : \"))\n",
    "    n5 = eval(input(\"Enter the marks of 1 subject : \"))\n",
    "    avg = (n1+n2+n3+n4+n5) / 5\n",
    "    print(\"Average is : \",avg)\n",
    "        \n",
    "main()"
   ]
  },
  {
   "cell_type": "markdown",
   "metadata": {},
   "source": [
    "Suppose the number of values to average must increase from five to 25. If we use above program as a guide, twenty additional variables must be introduced, and the overall length of the program necessarily will grow. Averaging 1,000 numbers using this approach is impractical.\n"
   ]
  },
  {
   "cell_type": "markdown",
   "metadata": {},
   "source": [
    "But there is alternative approach for averaging numbers."
   ]
  },
  {
   "cell_type": "code",
   "execution_count": 11,
   "metadata": {},
   "outputs": [
    {
     "name": "stdout",
     "output_type": "stream",
     "text": [
      "Enter the marks of 1 subject : 90\n",
      "Enter the marks of 2 subject : 89\n",
      "Enter the marks of 3 subject : 76\n",
      "Enter the marks of 4 subject : 68\n",
      "Enter the marks of 5 subject : 94\n",
      "Average is :  83.4\n"
     ]
    }
   ],
   "source": [
    "def main():\n",
    "    sum = 0.0;\n",
    "    for i in range(5):\n",
    "        num = eval(input(\"Enter the marks of \" + str(i + 1)+\" subject : \"))\n",
    "        sum += num\n",
    "    print(\"Average is : \",sum / 5)\n",
    "        \n",
    "main()"
   ]
  },
  {
   "cell_type": "markdown",
   "metadata": {},
   "source": [
    "* In fact, the coding change to average 1,000 numbers is no more difficult.\n",
    "* However, unlike the original average program, this new version does not         display the numbers entered. This is a significant difference; it may be       necessary to retain all the values entered for various reasons:\n",
    "\n",
    "* All the values can be redisplayed after entry so the user can visually verify their correctness.\n",
    "\n",
    "* The values may need to be displayed in some creative way; for example, they may be placed in a graphical user interface component, like a visual grid (spreadsheet).\n",
    "\n",
    "* The values entered may need to be processed in a different way after they are all entered; for example, we may wish to display just the values entered above a certain value (like greater than zero), but the limit is not determined until after all the numbers are entered.\n",
    "\n",
    "\n",
    "In all the above situation we need to retain the values of all the variables for future use.To solve this python provides us a non-primitive datatype List."
   ]
  },
  {
   "cell_type": "markdown",
   "metadata": {},
   "source": [
    "<hr style=\"border:2px solid gray\"> </hr>"
   ]
  },
  {
   "cell_type": "markdown",
   "metadata": {},
   "source": [
    "<h3>Using Lists</h3>\n",
    "\n",
    "* A list is collection of object.\n",
    "\n",
    "* A single list can hold intergers,floating point numbers,Strings and even       functions."
   ]
  },
  {
   "cell_type": "code",
   "execution_count": 21,
   "metadata": {},
   "outputs": [
    {
     "name": "stdout",
     "output_type": "stream",
     "text": [
      "[2, 5, 3, 6, 10]\n",
      "['I', 'am', 'a', 'python', 'developer']\n"
     ]
    }
   ],
   "source": [
    "list1 = [2,5,3,6,10]\n",
    "print(list1)\n",
    "list2 = ['I',\"am\",'a','python','developer']\n",
    "print(list2)"
   ]
  },
  {
   "cell_type": "markdown",
   "metadata": {},
   "source": [
    "* We can access each element in the list by its index.Index starts from 0     from the left."
   ]
  },
  {
   "cell_type": "code",
   "execution_count": 23,
   "metadata": {},
   "outputs": [
    {
     "name": "stdout",
     "output_type": "stream",
     "text": [
      "2\n",
      "5\n",
      "10\n",
      "\n",
      "10\n",
      "6\n"
     ]
    }
   ],
   "source": [
    "\n",
    "print(list1[0])\n",
    "print(list1[1])\n",
    "print(list1[4])\n",
    "print()\n",
    "print(list1[-1]) # prints the last element of the list\n",
    "print(list1[-2]) # prints the second last elements of the list"
   ]
  },
  {
   "cell_type": "markdown",
   "metadata": {},
   "source": [
    "<b>Python-list is mutable.That is its value can be changed.</b>"
   ]
  },
  {
   "cell_type": "code",
   "execution_count": 19,
   "metadata": {},
   "outputs": [
    {
     "name": "stdout",
     "output_type": "stream",
     "text": [
      "[2, 5, 3, 6, 10]\n",
      "The value at position 0 is : 2\n",
      "\n",
      "[44, 5, 3, 6, 10]\n",
      "The value at position 0 is : 44\n"
     ]
    }
   ],
   "source": [
    "print(list1)\n",
    "print(\"The value at position 0 is :\" , list1[0])\n",
    "print()\n",
    "list1[0] = 44          # change the value at the position 0 to 44\n",
    "\n",
    "print(list1)\n",
    "print(\"The value at position 0 is :\" , list1[0])"
   ]
  },
  {
   "cell_type": "markdown",
   "metadata": {},
   "source": [
    "<hr style=\"border:1px dashed red\"> </hr>"
   ]
  },
  {
   "cell_type": "markdown",
   "metadata": {},
   "source": [
    "<h4>Let's write a program to reverse the elemnts in the list.</h4>"
   ]
  },
  {
   "cell_type": "markdown",
   "metadata": {},
   "source": [
    "def main() :\n",
    "    lst = [3,1,4,6,23,45,73,33]\n",
    "    for i in range(len(lst) - 1,-1,-1):\n",
    "        print(lst[i])\n",
    "main()"
   ]
  },
  {
   "cell_type": "markdown",
   "metadata": {},
   "source": [
    "* len() function returns the number of elements in the list .\n",
    "\n",
    "* The range function accept start parameter as len(lst) - 1 which returns the number of elements of the list (here 7 ),stop parameter as -1 and step parameter as -1.So the value of i ranges from 7,6,5,4,3,2,1,0."
   ]
  },
  {
   "cell_type": "markdown",
   "metadata": {},
   "source": [
    "<hr style=\"border:1px dashed red\"> </hr>"
   ]
  },
  {
   "cell_type": "markdown",
   "execution_count": null,
   "metadata": {},
   "outputs": [],
   "source": [
    "<h4>Program to add each element by particular value.</h4>"
   ]
  },
  {
   "cell_type": "code",
   "execution_count": 29,
   "metadata": {},
   "outputs": [
    {
     "name": "stdout",
     "output_type": "stream",
     "text": [
      "Enter the value to be added 5\n",
      "Before adding the value\n",
      "[3, 43, 12, 56, 34, 23, 1, 3]\n",
      "\n",
      "after adding the value  5\n",
      "[8, 48, 17, 61, 39, 28, 6, 8]\n"
     ]
    }
   ],
   "source": [
    "lst = [3,43,12,56,34,23,1,3]\n",
    "\n",
    "val = eval(input(\"Enter the value to be added \"))\n",
    "\n",
    "print(\"Before adding the value\")\n",
    "print(lst)\n",
    "print()\n",
    "\n",
    "for i in range(0,len(lst)):\n",
    "    lst[i] = lst[i] + val\n",
    "    \n",
    "print(\"after adding the value \",val)\n",
    "print(lst)\n"
   ]
  },
  {
   "cell_type": "markdown",
   "metadata": {},
   "source": [
    "<hr style=\"border:1px dashed red\"> </hr>"
   ]
  },
  {
   "cell_type": "markdown",
   "metadata": {},
   "source": [
    "<h4>Program to add n elements to a list of same pattern.</h4>"
   ]
  },
  {
   "cell_type": "code",
   "execution_count": 33,
   "metadata": {},
   "outputs": [
    {
     "name": "stdout",
     "output_type": "stream",
     "text": [
      "[0, 0, 0]\n",
      "['abc', 'abc', 'abc', 'abc', 'abc']\n",
      "[10, 20, 30, 10, 20, 30, 10, 20, 30]\n"
     ]
    }
   ],
   "source": [
    "a = [0] * 3 \n",
    "print(a)\n",
    "\n",
    "a = ['abc'] * 5\n",
    "print(a)\n",
    "\n",
    "a = [10,20,30] * 3\n",
    "print(a)\n",
    "    "
   ]
  },
  {
   "cell_type": "markdown",
   "metadata": {},
   "source": [
    "<hr style=\"border:1px dashed red\"> </hr>"
   ]
  },
  {
   "cell_type": "markdown",
   "metadata": {},
   "source": [
    "<h4>Now we can write a the program to calculate the average.</h4>"
   ]
  },
  {
   "cell_type": "code",
   "execution_count": 39,
   "metadata": {},
   "outputs": [
    {
     "name": "stdout",
     "output_type": "stream",
     "text": [
      "Enter the total number of subject 5\n",
      "Enter the mark of  1 subject 89\n",
      "Enter the mark of  2 subject 90\n",
      "Enter the mark of  3 subject 67\n",
      "Enter the mark of  4 subject 78\n",
      "Enter the mark of  5 subject 65\n",
      "\n",
      "Mark of the student is  [89, 90, 67, 78, 65]\n",
      "Average :  77.8\n"
     ]
    }
   ],
   "source": [
    "def main():\n",
    "    marks = [] # initialized a empty list\n",
    "    sum = 0.0\n",
    "    n = int(input(\"Enter the total number of subject \"))\n",
    "    for i in range(0,n):\n",
    "        value = int(input(\"Enter the mark of  \" + str(i+1)+ \" subject \"))\n",
    "        ## adding the element to the marks list .\n",
    "        ## NB: we need to make the element in list inorder to add to \n",
    "        ## the exisiting list .Otherqwise error occurs.\n",
    "        marks = marks + [value] \n",
    "        sum = sum + value\n",
    "    print(\"\\nMark of the student is \",marks)\n",
    "    print(\"Average : \",sum / n)\n",
    "    \n",
    "main()"
   ]
  }
 ],
 "metadata": {
  "kernelspec": {
   "display_name": "Python 3",
   "language": "python",
   "name": "python3"
  },
  "language_info": {
   "codemirror_mode": {
    "name": "ipython",
    "version": 3
   },
   "file_extension": ".py",
   "mimetype": "text/x-python",
   "name": "python",
   "nbconvert_exporter": "python",
   "pygments_lexer": "ipython3",
   "version": "3.8.0"
  }
 },
 "nbformat": 4,
 "nbformat_minor": 4
}
